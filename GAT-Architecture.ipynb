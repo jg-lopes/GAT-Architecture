{
  "nbformat": 4,
  "nbformat_minor": 0,
  "metadata": {
    "colab": {
      "name": "TP3_ADL.ipynb",
      "provenance": [],
      "collapsed_sections": []
    },
    "kernelspec": {
      "name": "python3",
      "display_name": "Python 3"
    },
    "accelerator": "GPU"
  },
  "cells": [
    {
      "cell_type": "code",
      "metadata": {
        "colab": {
          "base_uri": "https://localhost:8080/"
        },
        "id": "GOie6iShxWXb",
        "outputId": "535407ca-af94-437f-f382-3c897786a988"
      },
      "source": [
        "!pip install torch===1.7.1 torchvision===0.8.2 torchaudio===0.7.2 -f https://download.pytorch.org/whl/torch_stable.html"
      ],
      "execution_count": null,
      "outputs": [
        {
          "output_type": "stream",
          "text": [
            "Looking in links: https://download.pytorch.org/whl/torch_stable.html\n",
            "Collecting torch===1.7.1\n",
            "\u001b[?25l  Downloading https://files.pythonhosted.org/packages/90/4f/acf48b3a18a8f9223c6616647f0a011a5713a985336088d7c76f3a211374/torch-1.7.1-cp36-cp36m-manylinux1_x86_64.whl (776.8MB)\n",
            "\u001b[K     |████████████████████████████████| 776.8MB 24kB/s \n",
            "\u001b[?25hCollecting torchvision===0.8.2\n",
            "\u001b[?25l  Downloading https://files.pythonhosted.org/packages/19/f1/d1d9b2be9f50e840accfa180ec2fb759dd2504f2b3a12a232398d5fa00ae/torchvision-0.8.2-cp36-cp36m-manylinux1_x86_64.whl (12.8MB)\n",
            "\u001b[K     |████████████████████████████████| 12.8MB 178kB/s \n",
            "\u001b[?25hCollecting torchaudio===0.7.2\n",
            "\u001b[?25l  Downloading https://files.pythonhosted.org/packages/2a/f9/618434cf4e46dc975871e1516f5499abef6564ab4366f9b2321ee536be14/torchaudio-0.7.2-cp36-cp36m-manylinux1_x86_64.whl (7.6MB)\n",
            "\u001b[K     |████████████████████████████████| 7.6MB 38.1MB/s \n",
            "\u001b[?25hRequirement already satisfied: typing-extensions in /usr/local/lib/python3.6/dist-packages (from torch===1.7.1) (3.7.4.3)\n",
            "Requirement already satisfied: dataclasses; python_version < \"3.7\" in /usr/local/lib/python3.6/dist-packages (from torch===1.7.1) (0.8)\n",
            "Requirement already satisfied: numpy in /usr/local/lib/python3.6/dist-packages (from torch===1.7.1) (1.19.5)\n",
            "Requirement already satisfied: pillow>=4.1.1 in /usr/local/lib/python3.6/dist-packages (from torchvision===0.8.2) (7.0.0)\n",
            "Installing collected packages: torch, torchvision, torchaudio\n",
            "  Found existing installation: torch 1.7.0+cu101\n",
            "    Uninstalling torch-1.7.0+cu101:\n",
            "      Successfully uninstalled torch-1.7.0+cu101\n",
            "  Found existing installation: torchvision 0.8.1+cu101\n",
            "    Uninstalling torchvision-0.8.1+cu101:\n",
            "      Successfully uninstalled torchvision-0.8.1+cu101\n",
            "Successfully installed torch-1.7.1 torchaudio-0.7.2 torchvision-0.8.2\n"
          ],
          "name": "stdout"
        }
      ]
    },
    {
      "cell_type": "code",
      "metadata": {
        "colab": {
          "base_uri": "https://localhost:8080/"
        },
        "id": "DCTYkSrQ0Kgl",
        "outputId": "0878d79c-aad2-43ee-8d53-2911786bb5b7"
      },
      "source": [
        "!pip install dgl-cu101 "
      ],
      "execution_count": null,
      "outputs": [
        {
          "output_type": "stream",
          "text": [
            "Collecting dgl-cu101\n",
            "\u001b[?25l  Downloading https://files.pythonhosted.org/packages/77/08/ea2d56e85eba1c22a14fa0f9b3c4ca8b43bf07de34e454d4e23632b376ea/dgl_cu101-0.5.3-cp36-cp36m-manylinux1_x86_64.whl (25.0MB)\n",
            "\u001b[K     |████████████████████████████████| 25.0MB 139kB/s \n",
            "\u001b[?25hRequirement already satisfied: numpy>=1.14.0 in /usr/local/lib/python3.6/dist-packages (from dgl-cu101) (1.19.5)\n",
            "Requirement already satisfied: scipy>=1.1.0 in /usr/local/lib/python3.6/dist-packages (from dgl-cu101) (1.4.1)\n",
            "Requirement already satisfied: networkx>=2.1 in /usr/local/lib/python3.6/dist-packages (from dgl-cu101) (2.5)\n",
            "Requirement already satisfied: requests>=2.19.0 in /usr/local/lib/python3.6/dist-packages (from dgl-cu101) (2.23.0)\n",
            "Requirement already satisfied: decorator>=4.3.0 in /usr/local/lib/python3.6/dist-packages (from networkx>=2.1->dgl-cu101) (4.4.2)\n",
            "Requirement already satisfied: chardet<4,>=3.0.2 in /usr/local/lib/python3.6/dist-packages (from requests>=2.19.0->dgl-cu101) (3.0.4)\n",
            "Requirement already satisfied: idna<3,>=2.5 in /usr/local/lib/python3.6/dist-packages (from requests>=2.19.0->dgl-cu101) (2.10)\n",
            "Requirement already satisfied: certifi>=2017.4.17 in /usr/local/lib/python3.6/dist-packages (from requests>=2.19.0->dgl-cu101) (2020.12.5)\n",
            "Requirement already satisfied: urllib3!=1.25.0,!=1.25.1,<1.26,>=1.21.1 in /usr/local/lib/python3.6/dist-packages (from requests>=2.19.0->dgl-cu101) (1.24.3)\n",
            "Installing collected packages: dgl-cu101\n",
            "Successfully installed dgl-cu101-0.5.3\n"
          ],
          "name": "stdout"
        }
      ]
    },
    {
      "cell_type": "code",
      "metadata": {
        "colab": {
          "base_uri": "https://localhost:8080/"
        },
        "id": "1WlMqxOKxA2B",
        "outputId": "57952c9d-0776-40e2-a61a-e6a3085668ad"
      },
      "source": [
        "import argparse\r\n",
        "from os import path\r\n",
        "\r\n",
        "import numpy as np\r\n",
        "import torch\r\n",
        "import torch.nn.functional as F\r\n",
        "from dgl import batch\r\n",
        "from dgl.data.ppi import LegacyPPIDataset\r\n",
        "from dgl.nn.pytorch import GraphConv\r\n",
        "from dgl.nn.pytorch import GATConv\r\n",
        "from sklearn.metrics import f1_score\r\n",
        "from torch import nn, optim\r\n",
        "from torch.utils.data import DataLoader\r\n",
        "\r\n",
        "\r\n",
        "#MODEL_STATE_FILE = path.join(path.dirname(path.abspath(__file__)), \"model_state.pth\")\r\n",
        "MODEL_STATE_FILE = \"./model_state.pth\"\r\n",
        "\r\n",
        "class GAT(nn.Module):\r\n",
        "    def __init__(self, g, input_size, hidden_size, output_size, nonlinearity, device_name):\r\n",
        "        super().__init__()\r\n",
        "\r\n",
        "        self.device_name=device_name\r\n",
        "        self.g = g\r\n",
        "        \r\n",
        "        self.layers = nn.ModuleList()\r\n",
        "        self.layers.append(GATConv(input_size, hidden_size, 8, activation=nonlinearity))\r\n",
        "        self.layers.append(GATConv(hidden_size, hidden_size, 8, activation=nonlinearity))\r\n",
        "        self.layers.append(GATConv(hidden_size, output_size, 6, activation=nonlinearity))\r\n",
        "\r\n",
        "\r\n",
        "\r\n",
        "    def forward(self, inputs):\r\n",
        "        \r\n",
        "        self.g = self.g.to(self.device_name)\r\n",
        "        outputs = inputs\r\n",
        "        \r\n",
        "        for i, layer in enumerate(self.layers):\r\n",
        "            outputs = layer(self.g, outputs)\r\n",
        "            outputs = torch.mean(outputs, 1)\r\n",
        "        \r\n",
        "        return outputs\r\n",
        "\r\n",
        "\r\n",
        "def main(args):\r\n",
        "    # create the dataset\r\n",
        "    train_dataset, test_dataset = LegacyPPIDataset(mode=\"train\"), LegacyPPIDataset(mode=\"test\")\r\n",
        "    train_dataloader = DataLoader(train_dataset, batch_size=args.batch_size, collate_fn=collate_fn)\r\n",
        "    test_dataloader = DataLoader(test_dataset, batch_size=args.batch_size, collate_fn=collate_fn)\r\n",
        "    n_features, n_classes = train_dataset.features.shape[1], train_dataset.labels.shape[1]\r\n",
        "\r\n",
        "    # create the model, loss function and optimizer\r\n",
        "    device = torch.device(\"cpu\" if args.gpu < 0 else \"cuda:\" + str(args.gpu))\r\n",
        "    model = GAT(g=train_dataset.graph, input_size=n_features,\r\n",
        "                hidden_size=256, output_size=n_classes, \r\n",
        "                nonlinearity=F.elu, device_name=device).to(device)\r\n",
        "    loss_fcn = nn.BCEWithLogitsLoss()\r\n",
        "    optimizer = torch.optim.Adam(model.parameters(), lr=0.01)\r\n",
        "\r\n",
        "    # train and test\r\n",
        "    if args.mode == \"train\":\r\n",
        "        train(model, loss_fcn, device, optimizer, train_dataloader, test_dataset)\r\n",
        "        torch.save(model.state_dict(), MODEL_STATE_FILE)\r\n",
        "    model.load_state_dict(torch.load(MODEL_STATE_FILE))\r\n",
        "    return test(model, loss_fcn, device, test_dataloader)\r\n",
        "\r\n",
        "\r\n",
        "def train(model, loss_fcn, device, optimizer, train_dataloader, test_dataset):\r\n",
        "    max_score = 0.89\r\n",
        "    for epoch in range(args.epochs):\r\n",
        "        model.train()\r\n",
        "        losses = []\r\n",
        "        for batch, data in enumerate(train_dataloader):\r\n",
        "            subgraph, features, labels = data\r\n",
        "            features = features.to(device)\r\n",
        "            labels = labels.to(device)\r\n",
        "            model.g = subgraph.to(device)\r\n",
        "            for layer in model.layers:\r\n",
        "                layer.g = subgraph.to(device)\r\n",
        "            logits = model(features.float())\r\n",
        "            loss = loss_fcn(logits, labels.float())\r\n",
        "            optimizer.zero_grad()\r\n",
        "            loss.backward()\r\n",
        "            optimizer.step()\r\n",
        "            losses.append(loss.item())\r\n",
        "        loss_data = np.array(losses).mean()\r\n",
        "        print(\"Epoch {:05d} | Loss: {:.4f}\".format(epoch + 1, loss_data))\r\n",
        "\r\n",
        "        if epoch % 5 == 0:\r\n",
        "            scores = []\r\n",
        "            for batch, test_data in enumerate(test_dataset):\r\n",
        "                subgraph, features, labels = test_data\r\n",
        "                features = features.clone().detach().to(device)\r\n",
        "                labels = labels.clone().detach().to(device)\r\n",
        "                score, _ = evaluate(features.float(), model, subgraph, labels.float(), loss_fcn)\r\n",
        "                scores.append(score)\r\n",
        "            final_score = np.array(scores).mean()\r\n",
        "            if final_score > max_score:\r\n",
        "                print(\"Highest score reached! Saving model\")\r\n",
        "                torch.save(model.state_dict(), f'./dropout_{final_score:.2f}model_state.pth')\r\n",
        "                max_score = final_score\r\n",
        "            print(\"F1-Score: {:.4f} \".format(np.array(scores).mean()))\r\n",
        "\r\n",
        "\r\n",
        "def test(model, loss_fcn, device, test_dataloader):\r\n",
        "    test_scores = []\r\n",
        "    for batch, test_data in enumerate(test_dataloader):\r\n",
        "        subgraph, features, labels = test_data\r\n",
        "        features = features.to(device)\r\n",
        "        labels = labels.to(device)\r\n",
        "        test_scores.append(evaluate(features, model, subgraph, labels.float(), loss_fcn)[0])\r\n",
        "    mean_scores = np.array(test_scores).mean()\r\n",
        "    print(\"F1-Score: {:.4f}\".format(np.array(test_scores).mean()))\r\n",
        "    return mean_scores\r\n",
        "\r\n",
        "\r\n",
        "def evaluate(features, model, subgraph, labels, loss_fcn):\r\n",
        "    with torch.no_grad():\r\n",
        "        model.eval()\r\n",
        "        model.g = subgraph\r\n",
        "        for layer in model.layers:\r\n",
        "            layer.g = subgraph\r\n",
        "        output = model(features.float())\r\n",
        "        loss_data = loss_fcn(output, labels.float())\r\n",
        "        predict = np.where(output.data.cpu().numpy() >= 0.5, 1, 0)\r\n",
        "        score = f1_score(labels.data.cpu().numpy(), predict, average=\"micro\")\r\n",
        "        return score, loss_data.item()\r\n",
        "\r\n",
        "\r\n",
        "def collate_fn(sample):\r\n",
        "    graphs, features, labels = map(list, zip(*sample))\r\n",
        "    graph = batch(graphs)\r\n",
        "    features = torch.from_numpy(np.concatenate(features))\r\n",
        "    labels = torch.from_numpy(np.concatenate(labels))\r\n",
        "    return graph, features, labels\r\n",
        "\r\n",
        "\r\n",
        "class Args:\r\n",
        "    def __init__(self):\r\n",
        "        self.mode = 'test'\r\n",
        "        self.gpu = 0\r\n",
        "        self.batch_size = 2\r\n",
        "        self.epochs = 1000\r\n",
        "\r\n",
        "args = Args()\r\n",
        "main(args)\r\n"
      ],
      "execution_count": null,
      "outputs": [
        {
          "output_type": "stream",
          "text": [
            "/usr/local/lib/python3.6/dist-packages/dgl/data/utils.py:285: UserWarning: Property dataset.features will be deprecated, please use dataset.graphs[i].ndata['feat'] instead.\n",
            "  warnings.warn('Property {} will be deprecated, please use {} instead.'.format(old, new))\n",
            "/usr/local/lib/python3.6/dist-packages/dgl/data/utils.py:285: UserWarning: Property dataset.labels will be deprecated, please use dataset.graphs[i].ndata['label'] instead.\n",
            "  warnings.warn('Property {} will be deprecated, please use {} instead.'.format(old, new))\n"
          ],
          "name": "stderr"
        },
        {
          "output_type": "stream",
          "text": [
            "F1-Score: 0.8979\n"
          ],
          "name": "stdout"
        },
        {
          "output_type": "execute_result",
          "data": {
            "text/plain": [
              "0.8979339581952641"
            ]
          },
          "metadata": {
            "tags": []
          },
          "execution_count": 9
        }
      ]
    }
  ]
}